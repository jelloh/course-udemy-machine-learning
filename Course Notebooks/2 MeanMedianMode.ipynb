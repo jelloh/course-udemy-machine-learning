{
 "cells": [
  {
   "cell_type": "markdown",
   "metadata": {},
   "source": [
    "# Mean, Median, Mode, and introducing NumPy"
   ]
  },
  {
   "cell_type": "markdown",
   "metadata": {},
   "source": [
    "## Mean vs. Median"
   ]
  },
  {
   "cell_type": "markdown",
   "metadata": {},
   "source": [
    "Let's create some fake income data, centered around 27,000 with a normal distribution and standard deviation of 15,000, with 10,000 data points. (We'll discuss those terms more later, if you're not familiar with them.)\n",
    "\n",
    "Then, compute the mean (average) - it should be close to 27,000:"
   ]
  },
  {
   "cell_type": "code",
   "execution_count": 8,
   "metadata": {},
   "outputs": [
    {
     "data": {
      "text/plain": [
       "27120.4008856003"
      ]
     },
     "execution_count": 8,
     "metadata": {},
     "output_type": "execute_result"
    }
   ],
   "source": [
    "import numpy as np\n",
    "\n",
    "# randomly generate a bunch of data\n",
    "incomes = np.random.normal(27000, 15000, 10000)\n",
    "np.mean(incomes)"
   ]
  },
  {
   "cell_type": "markdown",
   "metadata": {},
   "source": [
    "We can segment the income data into 50 buckets, and plot it as a histogram:"
   ]
  },
  {
   "cell_type": "code",
   "execution_count": 9,
   "metadata": {
    "scrolled": true
   },
   "outputs": [
    {
     "data": {
      "image/png": "[encoded data removed]",
      "text/plain": [
       "<Figure size 432x288 with 1 Axes>"
      ]
     },
     "metadata": {
      "needs_background": "light"
     },
     "output_type": "display_data"
    }
   ],
   "source": [
    "%matplotlib inline\n",
    "import matplotlib.pyplot as plt\n",
    "plt.hist(incomes, 50)\n",
    "plt.show()"
   ]
  },
  {
   "cell_type": "markdown",
   "metadata": {},
   "source": [
    "Now compute the median - since we have a nice, even distribution it too should be close to 27,000:"
   ]
  },
  {
   "cell_type": "code",
   "execution_count": 10,
   "metadata": {},
   "outputs": [
    {
     "data": {
      "text/plain": [
       "27173.738097450714"
      ]
     },
     "execution_count": 10,
     "metadata": {},
     "output_type": "execute_result"
    }
   ],
   "source": [
    "np.median(incomes)"
   ]
  },
  {
   "cell_type": "markdown",
   "metadata": {},
   "source": [
    "Now we'll add Donald Trump into the mix. Darn income inequality!"
   ]
  },
  {
   "cell_type": "code",
   "execution_count": 11,
   "metadata": {},
   "outputs": [],
   "source": [
    "incomes = np.append(incomes, [1000000000])"
   ]
  },
  {
   "cell_type": "markdown",
   "metadata": {},
   "source": [
    "The median won't change much, but the mean does:"
   ]
  },
  {
   "cell_type": "code",
   "execution_count": 12,
   "metadata": {},
   "outputs": [
    {
     "data": {
      "text/plain": [
       "27182.27547204374"
      ]
     },
     "execution_count": 12,
     "metadata": {},
     "output_type": "execute_result"
    }
   ],
   "source": [
    "np.median(incomes)"
   ]
  },
  {
   "cell_type": "code",
   "execution_count": 13,
   "metadata": {},
   "outputs": [
    {
     "data": {
      "text/plain": [
       "127107.69011658865"
      ]
     },
     "execution_count": 13,
     "metadata": {},
     "output_type": "execute_result"
    }
   ],
   "source": [
    "np.mean(incomes)"
   ]
  },
  {
   "cell_type": "markdown",
   "metadata": {},
   "source": [
    "## Mode"
   ]
  },
  {
   "cell_type": "markdown",
   "metadata": {},
   "source": [
    "Next, let's generate some fake age data for 500 people:"
   ]
  },
  {
   "cell_type": "code",
   "execution_count": 14,
   "metadata": {},
   "outputs": [
    {
     "data": {
      "text/plain": [
       "array([42, 47, 73, 43, 71, 37, 35, 72, 30, 82, 87, 85, 36, 40, 54, 30, 89,\n",
       "       60, 68, 45, 34, 41, 20, 71, 71, 46, 33, 52, 78, 34, 61, 74, 41, 76,\n",
       "       32, 63, 33, 66, 68, 62, 34, 84, 33, 24, 39, 59, 25, 44, 70, 52, 35,\n",
       "       79, 68, 29, 80, 43, 67, 75, 51, 42, 19, 41, 74, 49, 19, 38, 89, 34,\n",
       "       65, 61, 18, 64, 78, 53, 50, 72, 42, 77, 29, 85, 88, 67, 58, 59, 89,\n",
       "       24, 32, 21, 73, 45, 80, 53, 76, 66, 24, 65, 38, 40, 45, 32, 23, 86,\n",
       "       87, 46, 47, 26, 46, 72, 76, 64, 41, 20, 54, 60, 59, 68, 38, 24, 48,\n",
       "       67, 83, 82, 67, 83, 88, 51, 28, 52, 26, 82, 79, 66, 45, 81, 41, 52,\n",
       "       71, 53, 36, 31, 40, 18, 53, 89, 69, 69, 38, 62, 87, 79, 21, 85, 32,\n",
       "       58, 74, 64, 57, 70, 47, 82, 76, 48, 33, 71, 73, 62, 63, 70, 38, 37,\n",
       "       24, 55, 78, 25, 61, 39, 84, 22, 36, 33, 88, 41, 30, 22, 66, 77, 30,\n",
       "       81, 63, 42, 57, 59, 63, 68, 26, 71, 27, 28, 67, 43, 37, 72, 24, 64,\n",
       "       33, 60, 44, 77, 72, 21, 56, 59, 81, 89, 41, 66, 77, 22, 64, 61, 27,\n",
       "       42, 57, 63, 61, 53, 83, 56, 80, 57, 65, 55, 31, 20, 58, 35, 56, 24,\n",
       "       37, 72, 56, 59, 30, 78, 50, 41, 86, 31, 79, 46, 89, 63, 63, 48, 52,\n",
       "       53, 41, 42, 56, 89, 19, 43, 66, 80, 66, 19, 21, 32, 22, 80, 19, 50,\n",
       "       59, 67, 23, 25, 21, 59, 86, 89, 58, 64, 28, 54, 28, 71, 45, 27, 87,\n",
       "       55, 80, 39, 56, 80, 68, 82, 25, 18, 54, 69, 67, 70, 64, 64, 70, 28,\n",
       "       57, 59, 23, 22, 47, 58, 77, 58, 84, 70, 47, 81, 28, 72, 25, 60, 77,\n",
       "       89, 20, 66, 22, 74, 85, 82, 52, 49, 53, 27, 42, 23, 41, 74, 78, 48,\n",
       "       79, 45, 48, 47, 83, 87, 63, 57, 83, 57, 78, 42, 73, 63, 52, 32, 50,\n",
       "       31, 29, 21, 40, 20, 62, 62, 60, 32, 57, 45, 55, 41, 59, 27, 18, 71,\n",
       "       76, 67, 65, 79, 46, 88, 57, 81, 38, 76, 76, 52, 49, 49, 42, 59, 68,\n",
       "       62, 73, 84, 29, 52, 76, 88, 18, 40, 45, 72, 60, 37, 67, 87, 42, 70,\n",
       "       28, 28, 83, 73, 48, 59, 57, 33, 26, 32, 51, 82, 63, 87, 81, 88, 43,\n",
       "       26, 60, 36, 29, 34, 48, 49, 24, 25, 42, 36, 64, 22, 61, 73, 26, 21,\n",
       "       89, 34, 68, 88, 70, 51, 81, 40, 49, 66, 69, 33, 53, 44, 35, 68, 34,\n",
       "       22, 84, 78, 78, 86, 38, 60, 55, 78, 75, 62, 63, 33, 67, 48, 47, 62,\n",
       "       87, 76, 64, 30, 71, 20, 18, 24, 25, 68, 24, 20, 57, 46, 64, 67, 76,\n",
       "       30, 49, 42, 58, 27, 21, 69])"
      ]
     },
     "execution_count": 14,
     "metadata": {},
     "output_type": "execute_result"
    }
   ],
   "source": [
    "ages = np.random.randint(18, high=90, size=500)\n",
    "ages"
   ]
  },
  {
   "cell_type": "code",
   "execution_count": 15,
   "metadata": {},
   "outputs": [
    {
     "data": {
      "text/plain": [
       "ModeResult(mode=array([42]), count=array([12]))"
      ]
     },
     "execution_count": 15,
     "metadata": {},
     "output_type": "execute_result"
    }
   ],
   "source": [
    "from scipy import stats\n",
    "stats.mode(ages)"
   ]
  },
  {
   "cell_type": "code",
   "execution_count": null,
   "metadata": {},
   "outputs": [],
   "source": []
  }
 ],
 "metadata": {
  "kernelspec": {
   "display_name": "Python 3",
   "language": "python",
   "name": "python3"
  },
  "language_info": {
   "codemirror_mode": {
    "name": "ipython",
    "version": 3
   },
   "file_extension": ".py",
   "mimetype": "text/x-python",
   "name": "python",
   "nbconvert_exporter": "python",
   "pygments_lexer": "ipython3",
   "version": "3.7.1"
  }
 },
 "nbformat": 4,
 "nbformat_minor": 1
}
